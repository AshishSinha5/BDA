{
 "cells": [
  {
   "cell_type": "markdown",
   "metadata": {},
   "source": [
    "## Content from Aki Vehtari's BDA course\n",
    "### Assignment 1\n",
    "https://avehtari.github.io/BDA_course_Aalto/assignments/assignment1.pdf"
   ]
  },
  {
   "cell_type": "code",
   "execution_count": 1,
   "metadata": {},
   "outputs": [],
   "source": [
    "import numpy as np\n",
    "import matplotlib.pyplot as plt\n",
    "from scipy import stats"
   ]
  },
  {
   "cell_type": "markdown",
   "metadata": {},
   "source": [
    "**Q2**"
   ]
  },
  {
   "cell_type": "code",
   "execution_count": 9,
   "metadata": {},
   "outputs": [
    {
     "data": {
      "image/png": "[encoded data removed]",
      "text/plain": [
       "<Figure size 432x288 with 1 Axes>"
      ]
     },
     "metadata": {
      "needs_background": "light"
     },
     "output_type": "display_data"
    }
   ],
   "source": [
    "#2a\n",
    "x = np.linspace(0,1,1000)\n",
    "mu = 0.1\n",
    "sigma_sqr = 0.01\n",
    "alpha = mu*(mu*(1-mu)/sigma_sqr - 1)\n",
    "beta = alpha*(1-mu)/mu\n",
    "beta_dist = stats.beta.pdf(x, alpha, beta)\n",
    "plt.plot(x, beta_dist)\n",
    "plt.xlabel('x')\n",
    "plt.ylabel('beta({},{})'.format(alpha, beta))\n",
    "plt.title('PDF of Beta({},{})'.format(alpha, beta))\n",
    "plt.show()"
   ]
  },
  {
   "cell_type": "code",
   "execution_count": 22,
   "metadata": {},
   "outputs": [
    {
     "data": {
      "image/png": "[encoded data removed]",
      "text/plain": [
       "<Figure size 432x288 with 1 Axes>"
      ]
     },
     "metadata": {
      "needs_background": "light"
     },
     "output_type": "display_data"
    }
   ],
   "source": [
    "#2b\n",
    "beta_sample = stats.beta.rvs(0.8, 7.2, size = 1000)\n",
    "plt.hist(beta_sample, bins = 20,histtype='stepfilled', label = 'Samples', density = True)\n",
    "plt.plot(x, beta_dist, label = 'pdf')\n",
    "plt.legend()\n",
    "plt.show()"
   ]
  },
  {
   "cell_type": "code",
   "execution_count": 25,
   "metadata": {},
   "outputs": [
    {
     "name": "stdout",
     "output_type": "stream",
     "text": [
      "Sample Mean = 0.099\n",
      "Sample Variance = 0.009\n"
     ]
    }
   ],
   "source": [
    "#2c\n",
    "mu_hat = np.average(beta_sample)\n",
    "sigma_sqr_hat = np.var(beta_sample)\n",
    "print('Sample Mean = {}'.format(round(mu_hat,3)))\n",
    "print('Sample Variance = {}'.format(round(sigma_sqr_hat,3)))"
   ]
  },
  {
   "cell_type": "code",
   "execution_count": 38,
   "metadata": {},
   "outputs": [
    {
     "name": "stdout",
     "output_type": "stream",
     "text": [
      "95% confidence interval = [0.00112786 0.35020843]\n"
     ]
    }
   ],
   "source": [
    "#2d\n",
    "lb = (1-.95)/2\n",
    "ub = 1 - lb\n",
    "interval_95 = stats.mstats.mquantiles(beta_sample, prob=[lb,ub])\n",
    "interval_95\n",
    "print('95% confidence interval = {}'.format(interval_95))"
   ]
  },
  {
   "cell_type": "markdown",
   "metadata": {},
   "source": [
    "**Q3**"
   ]
  },
  {
   "cell_type": "markdown",
   "metadata": {},
   "source": [
    "P(Test is positive | Patient has lung cancer) = 0.98 \\\n",
    "P(Test is negative | Patient has lung cancer) = 0.02 \\\n",
    "P(Test is negative | Patient does not have lung cancer) = 0.96 \\\n",
    "P(Test is positive | Patient does not have lung cancer) = 0.04 \n",
    "\n",
    "P(Patient has Lung Cancer) = 0.001 \\\n",
    "P(Patient does not have Lung Cancer) = 0.999 \n",
    "\n",
    "**P(Patient does not have lung cancer | Test is positive )**\\\n",
    "= (P(Test is positive | Patient does not have lung cancer) * P(Patient does not have Lung Cancer))/P(Test is positive) \\\n",
    "= 0.04 * 0.999 / (0.04 * 0.999 + 0.98 * 0.001) \\\n",
    "= **0.9760**\n",
    "\n",
    "The methods will give false positive results and cost the patient huge sums due to expensive treatment and tests"
   ]
  },
  {
   "cell_type": "markdown",
   "metadata": {},
   "source": [
    "**Q4**"
   ]
  },
  {
   "cell_type": "code",
   "execution_count": 42,
   "metadata": {},
   "outputs": [
    {
     "name": "stdout",
     "output_type": "stream",
     "text": [
      "P(Choosing red ball) = 0.319\n"
     ]
    }
   ],
   "source": [
    "#4a\n",
    "a_r, a_w = 2, 5\n",
    "b_r, b_w = 4, 1\n",
    "c_r, c_w = 1, 3\n",
    "pa, pb, pc = 0.4, 0.1, (1 - pa - pb)\n",
    "pra = 2/7 # P(red|A selected)\n",
    "prb = 4/5\n",
    "prc = 1/4\n",
    "pr = pra*pa + prb*pb + prc*pc\n",
    "print('P(Choosing red ball) = {}'.format(round(pr,3)))"
   ]
  },
  {
   "cell_type": "code",
   "execution_count": 46,
   "metadata": {},
   "outputs": [
    {
     "name": "stdout",
     "output_type": "stream",
     "text": [
      "P(A|red) = 0.35794183445190153\n",
      "P(B|red) = 0.25055928411633116\n",
      "P(C|red) = 0.39149888143176736\n"
     ]
    }
   ],
   "source": [
    "#4b\n",
    "par = pra*pa/pr # P(A|red)\n",
    "pbr = prb*pb/pr\n",
    "pcr = prc*pc/pr\n",
    "print('P(A|red) = {}\\nP(B|red) = {}\\nP(C|red) = {}'.format(par,pbr,pcr))"
   ]
  },
  {
   "cell_type": "markdown",
   "metadata": {},
   "source": [
    "Red ball most likely comes from box **C**"
   ]
  },
  {
   "cell_type": "markdown",
   "metadata": {},
   "source": [
    "**Q5**"
   ]
  },
  {
   "cell_type": "markdown",
   "metadata": {},
   "source": [
    "P(fraternal twins) = 1/150 \\\n",
    "P(identical twins) = 1/400 \\\n",
    "P(boy) = P(girl) = 1/2 \\\n",
    "P(having both boys | fraternal twins) = 1/4 \\\n",
    "P(having both boys | identical twins) = 1/2 \\\n",
    "P(identical twins | having twin brother) = \\\n",
    "= P(having both boys | identical twins) * P(identical twins)/P(having both boys)  \\\n",
    "= (1/2 * 1/400)/(1/2 * 1/400 + 1/4 * 1/150)   \n",
    "= 0.429"
   ]
  }
 ],
 "metadata": {
  "kernelspec": {
   "display_name": "Python [conda env:tf]",
   "language": "python",
   "name": "conda-env-tf-py"
  },
  "language_info": {
   "codemirror_mode": {
    "name": "ipython",
    "version": 3
   },
   "file_extension": ".py",
   "mimetype": "text/x-python",
   "name": "python",
   "nbconvert_exporter": "python",
   "pygments_lexer": "ipython3",
   "version": "3.7.7"
  }
 },
 "nbformat": 4,
 "nbformat_minor": 4
}
